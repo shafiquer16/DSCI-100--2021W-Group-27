{
 "cells": [
  {
   "cell_type": "markdown",
   "id": "7b937120-9fc1-438a-9c26-07b71148a855",
   "metadata": {},
   "source": [
    "Project Proposal"
   ]
  },
  {
   "cell_type": "code",
   "execution_count": null,
   "id": "936820a8-b1e2-4f3b-9477-b5f719362c55",
   "metadata": {},
   "outputs": [],
   "source": []
  }
 ],
 "metadata": {
  "kernelspec": {
   "display_name": "R",
   "language": "R",
   "name": "ir"
  },
  "language_info": {
   "codemirror_mode": "r",
   "file_extension": ".r",
   "mimetype": "text/x-r-source",
   "name": "R",
   "pygments_lexer": "r",
   "version": "4.1.3"
  }
 },
 "nbformat": 4,
 "nbformat_minor": 5
}
