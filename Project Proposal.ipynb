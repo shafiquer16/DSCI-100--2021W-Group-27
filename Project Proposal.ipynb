{
 "cells": [
  {
   "cell_type": "markdown",
   "id": "7b937120-9fc1-438a-9c26-07b71148a855",
   "metadata": {},
   "source": [
    "**Title**\n",
    "\n",
    "Diagnosing Heart Disease With Cholesterol and Cardiac Variables\n",
    "\n",
    "\n",
    "**Introduction**\n",
    "\n",
    "Cardiovascular disease is a medical condition that affects the body's ability to pump blood and deliver oxygen to parts of the body because of plaque build up in arteries. In extreme cases, plaque build up can completely block an artery and inhibit the ability for the heart to provide blood to certain parts of the body, resulting in heart attacks, strokes and death. Cardiovascular disease is one of the main causes of death worldwide, it is reported that one individual dies every 34 seconds due to some form of heart disease (https://www.cdc.gov/heartdisease/facts). There are multiple condtions that are associated with high risk of cardiovascular disease such as high blood pressure, high cholesterol levels, smoking and a lack of sufficient exercise. In this data analysis we will predict whether or not an individual has heart disease using key factors that are correlated with high risks of cardiovascular disease. To accomplish this task we will use a data set that contains cardiovascular information (such as maximum heart rate, type of chest pain, etc. as well as if they are experience heart disease) of 303 individuals from Cleveland, Ohio from 1988.\n",
    "\n",
    "\n",
    "\n",
    "\n",
    "\n"
   ]
  },
  {
   "cell_type": "markdown",
   "id": "65c0cfd5-ff75-40de-98e9-2a13326a9a2d",
   "metadata": {},
   "source": [
    "**Preliminary Exploratory Data Analysis**\n"
   ]
  },
  {
   "cell_type": "code",
   "execution_count": 1,
   "id": "194230ea-7173-4e31-9169-bb984faa1e69",
   "metadata": {},
   "outputs": [
    {
     "name": "stderr",
     "output_type": "stream",
     "text": [
      "── \u001b[1mAttaching packages\u001b[22m ─────────────────────────────────────── tidyverse 1.3.1 ──\n",
      "\n",
      "\u001b[32m✔\u001b[39m \u001b[34mggplot2\u001b[39m 3.3.6     \u001b[32m✔\u001b[39m \u001b[34mpurrr  \u001b[39m 0.3.4\n",
      "\u001b[32m✔\u001b[39m \u001b[34mtibble \u001b[39m 3.1.7     \u001b[32m✔\u001b[39m \u001b[34mdplyr  \u001b[39m 1.0.9\n",
      "\u001b[32m✔\u001b[39m \u001b[34mtidyr  \u001b[39m 1.2.0     \u001b[32m✔\u001b[39m \u001b[34mstringr\u001b[39m 1.4.0\n",
      "\u001b[32m✔\u001b[39m \u001b[34mreadr  \u001b[39m 2.1.2     \u001b[32m✔\u001b[39m \u001b[34mforcats\u001b[39m 0.5.1\n",
      "\n",
      "── \u001b[1mConflicts\u001b[22m ────────────────────────────────────────── tidyverse_conflicts() ──\n",
      "\u001b[31m✖\u001b[39m \u001b[34mdplyr\u001b[39m::\u001b[32mfilter()\u001b[39m masks \u001b[34mstats\u001b[39m::filter()\n",
      "\u001b[31m✖\u001b[39m \u001b[34mdplyr\u001b[39m::\u001b[32mlag()\u001b[39m    masks \u001b[34mstats\u001b[39m::lag()\n",
      "\n",
      "── \u001b[1mAttaching packages\u001b[22m ────────────────────────────────────── tidymodels 1.0.0 ──\n",
      "\n",
      "\u001b[32m✔\u001b[39m \u001b[34mbroom       \u001b[39m 1.0.0     \u001b[32m✔\u001b[39m \u001b[34mrsample     \u001b[39m 1.0.0\n",
      "\u001b[32m✔\u001b[39m \u001b[34mdials       \u001b[39m 1.0.0     \u001b[32m✔\u001b[39m \u001b[34mtune        \u001b[39m 1.0.0\n",
      "\u001b[32m✔\u001b[39m \u001b[34minfer       \u001b[39m 1.0.2     \u001b[32m✔\u001b[39m \u001b[34mworkflows   \u001b[39m 1.0.0\n",
      "\u001b[32m✔\u001b[39m \u001b[34mmodeldata   \u001b[39m 1.0.0     \u001b[32m✔\u001b[39m \u001b[34mworkflowsets\u001b[39m 1.0.0\n",
      "\u001b[32m✔\u001b[39m \u001b[34mparsnip     \u001b[39m 1.0.0     \u001b[32m✔\u001b[39m \u001b[34myardstick   \u001b[39m 1.0.0\n",
      "\u001b[32m✔\u001b[39m \u001b[34mrecipes     \u001b[39m 1.0.1     \n",
      "\n",
      "── \u001b[1mConflicts\u001b[22m ───────────────────────────────────────── tidymodels_conflicts() ──\n",
      "\u001b[31m✖\u001b[39m \u001b[34mscales\u001b[39m::\u001b[32mdiscard()\u001b[39m masks \u001b[34mpurrr\u001b[39m::discard()\n",
      "\u001b[31m✖\u001b[39m \u001b[34mdplyr\u001b[39m::\u001b[32mfilter()\u001b[39m   masks \u001b[34mstats\u001b[39m::filter()\n",
      "\u001b[31m✖\u001b[39m \u001b[34mrecipes\u001b[39m::\u001b[32mfixed()\u001b[39m  masks \u001b[34mstringr\u001b[39m::fixed()\n",
      "\u001b[31m✖\u001b[39m \u001b[34mdplyr\u001b[39m::\u001b[32mlag()\u001b[39m      masks \u001b[34mstats\u001b[39m::lag()\n",
      "\u001b[31m✖\u001b[39m \u001b[34myardstick\u001b[39m::\u001b[32mspec()\u001b[39m masks \u001b[34mreadr\u001b[39m::spec()\n",
      "\u001b[31m✖\u001b[39m \u001b[34mrecipes\u001b[39m::\u001b[32mstep()\u001b[39m   masks \u001b[34mstats\u001b[39m::step()\n",
      "\u001b[34m•\u001b[39m Use suppressPackageStartupMessages() to eliminate package startup messages\n",
      "\n"
     ]
    }
   ],
   "source": [
    "#Load Important Packages\n",
    "library(tidyverse)\n",
    "library(dplyr)\n",
    "library(tidymodels)"
   ]
  },
  {
   "cell_type": "code",
   "execution_count": 2,
   "id": "fcc3ce08-89b1-4e67-8ddf-42c4fb7fbf87",
   "metadata": {},
   "outputs": [
    {
     "name": "stderr",
     "output_type": "stream",
     "text": [
      "\u001b[1mRows: \u001b[22m\u001b[34m303\u001b[39m \u001b[1mColumns: \u001b[22m\u001b[34m14\u001b[39m\n",
      "\u001b[36m──\u001b[39m \u001b[1mColumn specification\u001b[22m \u001b[36m────────────────────────────────────────────────────────\u001b[39m\n",
      "\u001b[1mDelimiter:\u001b[22m \",\"\n",
      "\u001b[31mchr\u001b[39m  (2): X12, X13\n",
      "\u001b[32mdbl\u001b[39m (12): X1, X2, X3, X4, X5, X6, X7, X8, X9, X10, X11, X14\n",
      "\n",
      "\u001b[36mℹ\u001b[39m Use `spec()` to retrieve the full column specification for this data.\n",
      "\u001b[36mℹ\u001b[39m Specify the column types or set `show_col_types = FALSE` to quiet this message.\n"
     ]
    },
    {
     "data": {
      "text/html": [
       "<table class=\"dataframe\">\n",
       "<caption>A tibble: 6 × 14</caption>\n",
       "<thead>\n",
       "\t<tr><th scope=col>age</th><th scope=col>sex</th><th scope=col>cp</th><th scope=col>trestbps</th><th scope=col>chol</th><th scope=col>fbs</th><th scope=col>restecg</th><th scope=col>thalach</th><th scope=col>exang</th><th scope=col>oldpeak</th><th scope=col>slope</th><th scope=col>ca</th><th scope=col>thal</th><th scope=col>num</th></tr>\n",
       "\t<tr><th scope=col>&lt;dbl&gt;</th><th scope=col>&lt;dbl&gt;</th><th scope=col>&lt;dbl&gt;</th><th scope=col>&lt;dbl&gt;</th><th scope=col>&lt;dbl&gt;</th><th scope=col>&lt;dbl&gt;</th><th scope=col>&lt;dbl&gt;</th><th scope=col>&lt;dbl&gt;</th><th scope=col>&lt;dbl&gt;</th><th scope=col>&lt;dbl&gt;</th><th scope=col>&lt;dbl&gt;</th><th scope=col>&lt;chr&gt;</th><th scope=col>&lt;chr&gt;</th><th scope=col>&lt;dbl&gt;</th></tr>\n",
       "</thead>\n",
       "<tbody>\n",
       "\t<tr><td>63</td><td>1</td><td>1</td><td>145</td><td>233</td><td>1</td><td>2</td><td>150</td><td>0</td><td>2.3</td><td>3</td><td>0.0</td><td>6.0</td><td>0</td></tr>\n",
       "\t<tr><td>67</td><td>1</td><td>4</td><td>160</td><td>286</td><td>0</td><td>2</td><td>108</td><td>1</td><td>1.5</td><td>2</td><td>3.0</td><td>3.0</td><td>2</td></tr>\n",
       "\t<tr><td>67</td><td>1</td><td>4</td><td>120</td><td>229</td><td>0</td><td>2</td><td>129</td><td>1</td><td>2.6</td><td>2</td><td>2.0</td><td>7.0</td><td>1</td></tr>\n",
       "\t<tr><td>37</td><td>1</td><td>3</td><td>130</td><td>250</td><td>0</td><td>0</td><td>187</td><td>0</td><td>3.5</td><td>3</td><td>0.0</td><td>3.0</td><td>0</td></tr>\n",
       "\t<tr><td>41</td><td>0</td><td>2</td><td>130</td><td>204</td><td>0</td><td>2</td><td>172</td><td>0</td><td>1.4</td><td>1</td><td>0.0</td><td>3.0</td><td>0</td></tr>\n",
       "\t<tr><td>56</td><td>1</td><td>2</td><td>120</td><td>236</td><td>0</td><td>0</td><td>178</td><td>0</td><td>0.8</td><td>1</td><td>0.0</td><td>3.0</td><td>0</td></tr>\n",
       "</tbody>\n",
       "</table>\n"
      ],
      "text/latex": [
       "A tibble: 6 × 14\n",
       "\\begin{tabular}{llllllllllllll}\n",
       " age & sex & cp & trestbps & chol & fbs & restecg & thalach & exang & oldpeak & slope & ca & thal & num\\\\\n",
       " <dbl> & <dbl> & <dbl> & <dbl> & <dbl> & <dbl> & <dbl> & <dbl> & <dbl> & <dbl> & <dbl> & <chr> & <chr> & <dbl>\\\\\n",
       "\\hline\n",
       "\t 63 & 1 & 1 & 145 & 233 & 1 & 2 & 150 & 0 & 2.3 & 3 & 0.0 & 6.0 & 0\\\\\n",
       "\t 67 & 1 & 4 & 160 & 286 & 0 & 2 & 108 & 1 & 1.5 & 2 & 3.0 & 3.0 & 2\\\\\n",
       "\t 67 & 1 & 4 & 120 & 229 & 0 & 2 & 129 & 1 & 2.6 & 2 & 2.0 & 7.0 & 1\\\\\n",
       "\t 37 & 1 & 3 & 130 & 250 & 0 & 0 & 187 & 0 & 3.5 & 3 & 0.0 & 3.0 & 0\\\\\n",
       "\t 41 & 0 & 2 & 130 & 204 & 0 & 2 & 172 & 0 & 1.4 & 1 & 0.0 & 3.0 & 0\\\\\n",
       "\t 56 & 1 & 2 & 120 & 236 & 0 & 0 & 178 & 0 & 0.8 & 1 & 0.0 & 3.0 & 0\\\\\n",
       "\\end{tabular}\n"
      ],
      "text/markdown": [
       "\n",
       "A tibble: 6 × 14\n",
       "\n",
       "| age &lt;dbl&gt; | sex &lt;dbl&gt; | cp &lt;dbl&gt; | trestbps &lt;dbl&gt; | chol &lt;dbl&gt; | fbs &lt;dbl&gt; | restecg &lt;dbl&gt; | thalach &lt;dbl&gt; | exang &lt;dbl&gt; | oldpeak &lt;dbl&gt; | slope &lt;dbl&gt; | ca &lt;chr&gt; | thal &lt;chr&gt; | num &lt;dbl&gt; |\n",
       "|---|---|---|---|---|---|---|---|---|---|---|---|---|---|\n",
       "| 63 | 1 | 1 | 145 | 233 | 1 | 2 | 150 | 0 | 2.3 | 3 | 0.0 | 6.0 | 0 |\n",
       "| 67 | 1 | 4 | 160 | 286 | 0 | 2 | 108 | 1 | 1.5 | 2 | 3.0 | 3.0 | 2 |\n",
       "| 67 | 1 | 4 | 120 | 229 | 0 | 2 | 129 | 1 | 2.6 | 2 | 2.0 | 7.0 | 1 |\n",
       "| 37 | 1 | 3 | 130 | 250 | 0 | 0 | 187 | 0 | 3.5 | 3 | 0.0 | 3.0 | 0 |\n",
       "| 41 | 0 | 2 | 130 | 204 | 0 | 2 | 172 | 0 | 1.4 | 1 | 0.0 | 3.0 | 0 |\n",
       "| 56 | 1 | 2 | 120 | 236 | 0 | 0 | 178 | 0 | 0.8 | 1 | 0.0 | 3.0 | 0 |\n",
       "\n"
      ],
      "text/plain": [
       "  age sex cp trestbps chol fbs restecg thalach exang oldpeak slope ca  thal num\n",
       "1 63  1   1  145      233  1   2       150     0     2.3     3     0.0 6.0  0  \n",
       "2 67  1   4  160      286  0   2       108     1     1.5     2     3.0 3.0  2  \n",
       "3 67  1   4  120      229  0   2       129     1     2.6     2     2.0 7.0  1  \n",
       "4 37  1   3  130      250  0   0       187     0     3.5     3     0.0 3.0  0  \n",
       "5 41  0   2  130      204  0   2       172     0     1.4     1     0.0 3.0  0  \n",
       "6 56  1   2  120      236  0   0       178     0     0.8     1     0.0 3.0  0  "
      ]
     },
     "metadata": {},
     "output_type": "display_data"
    }
   ],
   "source": [
    "#Loading Processed Cleveland Data From Heart Disease Data Set\n",
    "url<-\"https://archive.ics.uci.edu/ml/machine-learning-databases/heart-disease/processed.cleveland.data\"\n",
    "\n",
    "cleveland_heart_data<-read_csv(url, col_names=FALSE)%>%\n",
    "rename(age=X1,\n",
    "       sex=X2,\n",
    "       cp=X3,\n",
    "       trestbps=X4,\n",
    "       chol=X5,\n",
    "       fbs=X6,\n",
    "       restecg=X7,\n",
    "       thalach=X8,\n",
    "       exang=X9,\n",
    "       oldpeak=X10,\n",
    "       slope=X11,\n",
    "       ca=X12,\n",
    "       thal=X13,\n",
    "       num=X14)     \n",
    "head(cleveland_heart_data)"
   ]
  },
  {
   "cell_type": "markdown",
   "id": "db67bfb2-4f85-4bb9-8389-208adedf871b",
   "metadata": {},
   "source": [
    "**Tidying The Data**"
   ]
  },
  {
   "cell_type": "code",
   "execution_count": 3,
   "id": "68481550-3127-4438-883d-8769a8276823",
   "metadata": {},
   "outputs": [],
   "source": [
    "cleveland_heart_data$sex<-ifelse(cleveland_heart_data$sex == 1, 'male', 'female')\n",
    "cleveland_heart_data$fbs<-ifelse(cleveland_heart_data$fbs == 1, '>120', '<120')\n",
    "cleveland_heart_data$exang<-ifelse(cleveland_heart_data$exang == 1, 'yes', 'no')\n",
    "cleveland_heart_data$num<-ifelse(cleveland_heart_data$num == 0, 'no_disease', 'has_disease')\n",
    "#Values 1-4 are considered to be the presence of heart disease (different types) and 0 is absence. We have\n",
    "#combined 1-4 into a single variable because we are only concerned of the presence for this study.\n",
    "\n",
    "\n",
    "cleveland_heart_data$cp<-ifelse(cleveland_heart_data$cp == 1, 'typical_angina',\n",
    "                                ifelse(cleveland_heart_data$cp == 2, 'atypical_angina',\n",
    "                                       ifelse(cleveland_heart_data$cp == 3, 'non_anginal_pain', 'asymptomatic')))\n",
    "\n",
    "#cleveland_heart_data$restecg<-ifelse(cleveland_heart_data$restecg == 0, 'normal',\n",
    "                                     #ifelse(cleveland_heart_data$restecg == 1, 'abnormal', 'hypertrophy'))\n",
    "\n",
    "cleveland_heart_data$slope<-ifelse(cleveland_heart_data$slope == 1, 'upsloping',\n",
    "                                   ifelse(cleveland_heart_data$slope == 2, 'flat', 'downsloping'))\n"
   ]
  },
  {
   "cell_type": "code",
   "execution_count": 4,
   "id": "4cbaf970-8e6f-44ab-b283-18bd539e72af",
   "metadata": {},
   "outputs": [
    {
     "data": {
      "text/html": [
       "<table class=\"dataframe\">\n",
       "<caption>A tibble: 6 × 14</caption>\n",
       "<thead>\n",
       "\t<tr><th scope=col>age</th><th scope=col>sex</th><th scope=col>cp</th><th scope=col>trestbps</th><th scope=col>chol</th><th scope=col>fbs</th><th scope=col>restecg</th><th scope=col>thalach</th><th scope=col>exang</th><th scope=col>oldpeak</th><th scope=col>slope</th><th scope=col>ca</th><th scope=col>thal</th><th scope=col>num</th></tr>\n",
       "\t<tr><th scope=col>&lt;dbl&gt;</th><th scope=col>&lt;chr&gt;</th><th scope=col>&lt;chr&gt;</th><th scope=col>&lt;dbl&gt;</th><th scope=col>&lt;dbl&gt;</th><th scope=col>&lt;chr&gt;</th><th scope=col>&lt;dbl&gt;</th><th scope=col>&lt;dbl&gt;</th><th scope=col>&lt;chr&gt;</th><th scope=col>&lt;dbl&gt;</th><th scope=col>&lt;chr&gt;</th><th scope=col>&lt;chr&gt;</th><th scope=col>&lt;chr&gt;</th><th scope=col>&lt;chr&gt;</th></tr>\n",
       "</thead>\n",
       "<tbody>\n",
       "\t<tr><td>63</td><td><span style=white-space:pre-wrap>male  </span></td><td><span style=white-space:pre-wrap>typical_angina  </span></td><td>145</td><td>233</td><td>&gt;120</td><td>2</td><td>150</td><td>no </td><td>2.3</td><td>downsloping</td><td>0.0</td><td>6.0</td><td>no_disease </td></tr>\n",
       "\t<tr><td>67</td><td><span style=white-space:pre-wrap>male  </span></td><td><span style=white-space:pre-wrap>asymptomatic    </span></td><td>160</td><td>286</td><td>&lt;120</td><td>2</td><td>108</td><td>yes</td><td>1.5</td><td><span style=white-space:pre-wrap>flat       </span></td><td>3.0</td><td>3.0</td><td>has_disease</td></tr>\n",
       "\t<tr><td>67</td><td><span style=white-space:pre-wrap>male  </span></td><td><span style=white-space:pre-wrap>asymptomatic    </span></td><td>120</td><td>229</td><td>&lt;120</td><td>2</td><td>129</td><td>yes</td><td>2.6</td><td><span style=white-space:pre-wrap>flat       </span></td><td>2.0</td><td>7.0</td><td>has_disease</td></tr>\n",
       "\t<tr><td>37</td><td><span style=white-space:pre-wrap>male  </span></td><td>non_anginal_pain</td><td>130</td><td>250</td><td>&lt;120</td><td>0</td><td>187</td><td>no </td><td>3.5</td><td>downsloping</td><td>0.0</td><td>3.0</td><td>no_disease </td></tr>\n",
       "\t<tr><td>41</td><td>female</td><td>atypical_angina </td><td>130</td><td>204</td><td>&lt;120</td><td>2</td><td>172</td><td>no </td><td>1.4</td><td><span style=white-space:pre-wrap>upsloping  </span></td><td>0.0</td><td>3.0</td><td>no_disease </td></tr>\n",
       "\t<tr><td>56</td><td><span style=white-space:pre-wrap>male  </span></td><td>atypical_angina </td><td>120</td><td>236</td><td>&lt;120</td><td>0</td><td>178</td><td>no </td><td>0.8</td><td><span style=white-space:pre-wrap>upsloping  </span></td><td>0.0</td><td>3.0</td><td>no_disease </td></tr>\n",
       "</tbody>\n",
       "</table>\n"
      ],
      "text/latex": [
       "A tibble: 6 × 14\n",
       "\\begin{tabular}{llllllllllllll}\n",
       " age & sex & cp & trestbps & chol & fbs & restecg & thalach & exang & oldpeak & slope & ca & thal & num\\\\\n",
       " <dbl> & <chr> & <chr> & <dbl> & <dbl> & <chr> & <dbl> & <dbl> & <chr> & <dbl> & <chr> & <chr> & <chr> & <chr>\\\\\n",
       "\\hline\n",
       "\t 63 & male   & typical\\_angina   & 145 & 233 & >120 & 2 & 150 & no  & 2.3 & downsloping & 0.0 & 6.0 & no\\_disease \\\\\n",
       "\t 67 & male   & asymptomatic     & 160 & 286 & <120 & 2 & 108 & yes & 1.5 & flat        & 3.0 & 3.0 & has\\_disease\\\\\n",
       "\t 67 & male   & asymptomatic     & 120 & 229 & <120 & 2 & 129 & yes & 2.6 & flat        & 2.0 & 7.0 & has\\_disease\\\\\n",
       "\t 37 & male   & non\\_anginal\\_pain & 130 & 250 & <120 & 0 & 187 & no  & 3.5 & downsloping & 0.0 & 3.0 & no\\_disease \\\\\n",
       "\t 41 & female & atypical\\_angina  & 130 & 204 & <120 & 2 & 172 & no  & 1.4 & upsloping   & 0.0 & 3.0 & no\\_disease \\\\\n",
       "\t 56 & male   & atypical\\_angina  & 120 & 236 & <120 & 0 & 178 & no  & 0.8 & upsloping   & 0.0 & 3.0 & no\\_disease \\\\\n",
       "\\end{tabular}\n"
      ],
      "text/markdown": [
       "\n",
       "A tibble: 6 × 14\n",
       "\n",
       "| age &lt;dbl&gt; | sex &lt;chr&gt; | cp &lt;chr&gt; | trestbps &lt;dbl&gt; | chol &lt;dbl&gt; | fbs &lt;chr&gt; | restecg &lt;dbl&gt; | thalach &lt;dbl&gt; | exang &lt;chr&gt; | oldpeak &lt;dbl&gt; | slope &lt;chr&gt; | ca &lt;chr&gt; | thal &lt;chr&gt; | num &lt;chr&gt; |\n",
       "|---|---|---|---|---|---|---|---|---|---|---|---|---|---|\n",
       "| 63 | male   | typical_angina   | 145 | 233 | &gt;120 | 2 | 150 | no  | 2.3 | downsloping | 0.0 | 6.0 | no_disease  |\n",
       "| 67 | male   | asymptomatic     | 160 | 286 | &lt;120 | 2 | 108 | yes | 1.5 | flat        | 3.0 | 3.0 | has_disease |\n",
       "| 67 | male   | asymptomatic     | 120 | 229 | &lt;120 | 2 | 129 | yes | 2.6 | flat        | 2.0 | 7.0 | has_disease |\n",
       "| 37 | male   | non_anginal_pain | 130 | 250 | &lt;120 | 0 | 187 | no  | 3.5 | downsloping | 0.0 | 3.0 | no_disease  |\n",
       "| 41 | female | atypical_angina  | 130 | 204 | &lt;120 | 2 | 172 | no  | 1.4 | upsloping   | 0.0 | 3.0 | no_disease  |\n",
       "| 56 | male   | atypical_angina  | 120 | 236 | &lt;120 | 0 | 178 | no  | 0.8 | upsloping   | 0.0 | 3.0 | no_disease  |\n",
       "\n"
      ],
      "text/plain": [
       "  age sex    cp               trestbps chol fbs  restecg thalach exang oldpeak\n",
       "1 63  male   typical_angina   145      233  >120 2       150     no    2.3    \n",
       "2 67  male   asymptomatic     160      286  <120 2       108     yes   1.5    \n",
       "3 67  male   asymptomatic     120      229  <120 2       129     yes   2.6    \n",
       "4 37  male   non_anginal_pain 130      250  <120 0       187     no    3.5    \n",
       "5 41  female atypical_angina  130      204  <120 2       172     no    1.4    \n",
       "6 56  male   atypical_angina  120      236  <120 0       178     no    0.8    \n",
       "  slope       ca  thal num        \n",
       "1 downsloping 0.0 6.0  no_disease \n",
       "2 flat        3.0 3.0  has_disease\n",
       "3 flat        2.0 7.0  has_disease\n",
       "4 downsloping 0.0 3.0  no_disease \n",
       "5 upsloping   0.0 3.0  no_disease \n",
       "6 upsloping   0.0 3.0  no_disease "
      ]
     },
     "metadata": {},
     "output_type": "display_data"
    }
   ],
   "source": [
    "head(cleveland_heart_data)"
   ]
  },
  {
   "cell_type": "markdown",
   "id": "431fb922-bea2-49e4-9695-cef615a02993",
   "metadata": {},
   "source": [
    "Column Meanings: (From https://archive.ics.uci.edu/ml/datasets/Heart+Disease)\n",
    "\n",
    "cp = type of chest pain\n",
    "\n",
    "trestbps = resting blood pressure (mm/Hg)\n",
    "\n",
    "chol = cholesterol (mg/dl)\n",
    "\n",
    "fbs = fasting blood sugar (mg/dl)\n",
    "\n",
    "restecg = electrocardiographic results\n",
    "\n",
    "thalach = maximum heart rate\n",
    "\n",
    "exang = exercise induced angina\n",
    "\n",
    "oldpeak = ST depression induced by exercise relative to rest\n",
    "\n",
    "slope = the slope of the peak exercise ST segment\n",
    "\n",
    "ca = number of major vessels colored by flourosopy\n",
    "\n",
    "thal = defect Type (3.0 = normal, 6.0 = fixed defect, 7.0 = reversible defect)\n",
    "\n",
    "num = diagnosis"
   ]
  },
  {
   "cell_type": "markdown",
   "id": "da70c552-aa4f-48a5-9b0a-8fc5f57f3c15",
   "metadata": {},
   "source": [
    "**Table of Count of each Class in Training Data**"
   ]
  },
  {
   "cell_type": "code",
   "execution_count": 5,
   "id": "7eeca56f-69de-4a7d-bb33-c1ccbf1604e1",
   "metadata": {},
   "outputs": [
    {
     "data": {
      "text/html": [
       "<table class=\"dataframe\">\n",
       "<caption>A tibble: 2 × 2</caption>\n",
       "<thead>\n",
       "\t<tr><th scope=col>num</th><th scope=col>n</th></tr>\n",
       "\t<tr><th scope=col>&lt;chr&gt;</th><th scope=col>&lt;int&gt;</th></tr>\n",
       "</thead>\n",
       "<tbody>\n",
       "\t<tr><td>has_disease</td><td>139</td></tr>\n",
       "\t<tr><td>no_disease </td><td>164</td></tr>\n",
       "</tbody>\n",
       "</table>\n"
      ],
      "text/latex": [
       "A tibble: 2 × 2\n",
       "\\begin{tabular}{ll}\n",
       " num & n\\\\\n",
       " <chr> & <int>\\\\\n",
       "\\hline\n",
       "\t has\\_disease & 139\\\\\n",
       "\t no\\_disease  & 164\\\\\n",
       "\\end{tabular}\n"
      ],
      "text/markdown": [
       "\n",
       "A tibble: 2 × 2\n",
       "\n",
       "| num &lt;chr&gt; | n &lt;int&gt; |\n",
       "|---|---|\n",
       "| has_disease | 139 |\n",
       "| no_disease  | 164 |\n",
       "\n"
      ],
      "text/plain": [
       "  num         n  \n",
       "1 has_disease 139\n",
       "2 no_disease  164"
      ]
     },
     "metadata": {},
     "output_type": "display_data"
    }
   ],
   "source": [
    "class_table<-cleveland_heart_data%>%\n",
    "group_by(num)%>%\n",
    "summarize(n=n())\n",
    "class_table"
   ]
  },
  {
   "cell_type": "markdown",
   "id": "329bd550-3020-425a-a292-714b46a0e25d",
   "metadata": {},
   "source": [
    "**Graph/Visualization:**"
   ]
  },
  {
   "cell_type": "code",
   "execution_count": 6,
   "id": "b1ba2480-28ef-4c32-a0db-d2ee1abd2af0",
   "metadata": {},
   "outputs": [
    {
     "name": "stderr",
     "output_type": "stream",
     "text": [
      "Warning message:\n",
      "“Ignoring unknown parameters: binwidth, bins, pad”\n",
      "`stat_bin()` using `bins = 30`. Pick better value with `binwidth`.\n",
      "\n",
      "`stat_bin()` using `bins = 30`. Pick better value with `binwidth`.\n",
      "\n"
     ]
    },
    {
     "data": {
      "image/png": "[encoded data removed]",
      "text/plain": [
       "plot without title"
      ]
     },
     "metadata": {
      "image/png": {
       "height": 360,
       "width": 360
      }
     },
     "output_type": "display_data"
    },
    {
     "name": "stderr",
     "output_type": "stream",
     "text": [
      "`stat_bin()` using `bins = 30`. Pick better value with `binwidth`.\n",
      "\n"
     ]
    },
    {
     "data": {
      "image/png": "[encoded data removed]",
      "text/plain": [
       "plot without title"
      ]
     },
     "metadata": {
      "image/png": {
       "height": 360,
       "width": 360
      }
     },
     "output_type": "display_data"
    },
    {
     "data": {
      "image/png": "[encoded data removed]",
      "text/plain": [
       "plot without title"
      ]
     },
     "metadata": {
      "image/png": {
       "height": 360,
       "width": 360
      }
     },
     "output_type": "display_data"
    },
    {
     "data": {
      "image/png": "[encoded data removed]",
      "text/plain": [
       "plot without title"
      ]
     },
     "metadata": {
      "image/png": {
       "height": 360,
       "width": 360
      }
     },
     "output_type": "display_data"
    }
   ],
   "source": [
    "options(repr.plot.width=6,repr.plot.height=6)\n",
    "chol_plot<-cleveland_heart_data%>%\n",
    "ggplot(aes(x=chol))+\n",
    "geom_histogram()+\n",
    "labs(x=\"Cholesterol(mg/dl)\", y=\"Count\")+\n",
    "theme(text=element_text(size=15))+\n",
    "ggtitle(\"Cholesterol Distribution\")\n",
    "\n",
    "options(repr.plot.width=6,repr.plot.height=6)\n",
    "trestbps_plot<-cleveland_heart_data%>%\n",
    "ggplot(aes(x=trestbps))+\n",
    "geom_histogram()+\n",
    "labs(x=\"Resting Blood Pressure(mm/Hg)\", y=\"Count\")+\n",
    "theme(text=element_text(size=15))+\n",
    "ggtitle(\"Blood Pressure Distribution\")\n",
    "\n",
    "options(repr.plot.width=6,repr.plot.height=6)\n",
    "thalach_plot<-cleveland_heart_data%>%\n",
    "ggplot(aes(x=thalach))+\n",
    "geom_histogram()+\n",
    "labs(x=\"Maximum Heart Rate\", y=\"Count\")+\n",
    "theme(text=element_text(size=15))+\n",
    "ggtitle(\"Maximum Heart Rate Distribution\")\n",
    "\n",
    "options(repr.plot.width=6,repr.plot.height=6)\n",
    "restecg_plot<-cleveland_heart_data%>%\n",
    "ggplot(aes(x=restecg))+\n",
    "geom_histogram(stat=\"count\")+\n",
    "labs(x=\"Electrocardiograph Result\", y=\"Count\")+\n",
    "theme(text=element_text(size=15))+\n",
    "ggtitle(\"Electrocardiograph Result\")\n",
    "\n",
    "chol_plot\n",
    "trestbps_plot\n",
    "thalach_plot\n",
    "restecg_plot\n",
    "\n",
    "#See list of variables in Tidying the Data section for meaning of electrocardiograph results"
   ]
  },
  {
   "cell_type": "markdown",
   "id": "cab6eea5-1559-4756-8547-5126b4730568",
   "metadata": {},
   "source": [
    "**Methods**\n",
    "\n",
    "We will conduct our data analysis by creating a K-Nearest-Neighbor classification algorithim that will predict the presence of heart disease using cholesterol levels, resting blood pressure, maximum heart rate and electrocardiographic information as predictors. The data will be split into a training and testing data set and they will undergoe cross-validation. Furthermore we will tune our classification model to determine the most accurate K value for our data analysis and illustrate this with an accuracy vs neighbors line plot."
   ]
  },
  {
   "cell_type": "markdown",
   "id": "137f6294-b45d-49e6-ad7e-3ce001c3c3c4",
   "metadata": {},
   "source": [
    "**Expected Outcomes and Significance**\n",
    "\n",
    "We expect to find a model that can predict the presence of heart disease in patients based on measurable predictor values discussed in the Methods section. Heart disease is difficult to diagnose and often requires many tests to be preformed on a patient. If a successful model is found, this will limit the amount of time physicians spend on conducting tests, as they will only need access to the predictors used in this model to make a diagnosis. Physicians will therefore be able to rapidly diagnose patients with heart disease and provide proper care much sooner as less time will be spent on the preliminary testing phases. Future sudies may refine the model to determine if it is possible to predict a specific type of heart disease based on the predictor variables being studied, as the categories of different disease were combined into one variable for this study (see the note in \"Tidying The Data\" section)."
   ]
  },
  {
   "cell_type": "code",
   "execution_count": null,
   "id": "85590edc-87d5-4199-b016-47b2dfb0a5dc",
   "metadata": {},
   "outputs": [],
   "source": []
  }
 ],
 "metadata": {
  "kernelspec": {
   "display_name": "R",
   "language": "R",
   "name": "ir"
  },
  "language_info": {
   "codemirror_mode": "r",
   "file_extension": ".r",
   "mimetype": "text/x-r-source",
   "name": "R",
   "pygments_lexer": "r",
   "version": "4.1.3"
  }
 },
 "nbformat": 4,
 "nbformat_minor": 5
}
