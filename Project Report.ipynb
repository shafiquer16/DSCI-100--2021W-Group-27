{
 "cells": [
  {
   "cell_type": "markdown",
   "id": "46b22e17-20ce-4fdd-a6ac-b56577dcc715",
   "metadata": {},
   "source": [
    "**Title**"
   ]
  },
  {
   "cell_type": "markdown",
   "id": "e8123f49-0950-4d9a-b0c5-93fb1cfd54fa",
   "metadata": {},
   "source": [
    "**Introduction**"
   ]
  },
  {
   "cell_type": "markdown",
   "id": "ef700bd5-a04b-48d4-b8e4-5c7259245ab9",
   "metadata": {},
   "source": [
    "**Methods and Results**"
   ]
  },
  {
   "cell_type": "code",
   "execution_count": 1,
   "id": "00fcb8dd-7d71-4c1c-92a8-e178a4b782d7",
   "metadata": {},
   "outputs": [],
   "source": [
    "suppressPackageStartupMessages(library(tidyverse))\n",
    "suppressPackageStartupMessages(library(tidymodels))\n",
    "suppressPackageStartupMessages(library(dplyr))"
   ]
  },
  {
   "cell_type": "code",
   "execution_count": 2,
   "id": "44a87d58-bf02-4e62-a1c6-8cb306923763",
   "metadata": {},
   "outputs": [
    {
     "name": "stderr",
     "output_type": "stream",
     "text": [
      "\u001b[1mRows: \u001b[22m\u001b[34m303\u001b[39m \u001b[1mColumns: \u001b[22m\u001b[34m14\u001b[39m\n",
      "\u001b[36m──\u001b[39m \u001b[1mColumn specification\u001b[22m \u001b[36m────────────────────────────────────────────────────────\u001b[39m\n",
      "\u001b[1mDelimiter:\u001b[22m \",\"\n",
      "\u001b[31mchr\u001b[39m  (2): X12, X13\n",
      "\u001b[32mdbl\u001b[39m (12): X1, X2, X3, X4, X5, X6, X7, X8, X9, X10, X11, X14\n",
      "\n",
      "\u001b[36mℹ\u001b[39m Use `spec()` to retrieve the full column specification for this data.\n",
      "\u001b[36mℹ\u001b[39m Specify the column types or set `show_col_types = FALSE` to quiet this message.\n"
     ]
    }
   ],
   "source": [
    "url<-\"https://archive.ics.uci.edu/ml/machine-learning-databases/heart-disease/processed.cleveland.data\"\n",
    "\n",
    "cleveland_heart_data<-read_csv(url, col_names=FALSE)%>%\n",
    "rename(age=X1,\n",
    "       sex=X2,\n",
    "       cp=X3,\n",
    "       trestbps=X4,\n",
    "       chol=X5,\n",
    "       fbs=X6,\n",
    "       restecg=X7,\n",
    "       thalach=X8,\n",
    "       exang=X9,\n",
    "       oldpeak=X10,\n",
    "       slope=X11,\n",
    "       ca=X12,\n",
    "       thal=X13,\n",
    "       num=X14)     "
   ]
  },
  {
   "cell_type": "code",
   "execution_count": 3,
   "id": "d271e1b0-c755-4621-acb5-b7483191ab9c",
   "metadata": {},
   "outputs": [],
   "source": [
    "cleveland_heart_data$sex<-ifelse(cleveland_heart_data$sex == 1, 'male', 'female')\n",
    "\n",
    "cleveland_heart_data$fbs<-ifelse(cleveland_heart_data$fbs == 1, '>120', '<120')\n",
    "\n",
    "cleveland_heart_data$exang<-ifelse(cleveland_heart_data$exang == 1, 'yes', 'no')\n",
    "\n",
    "cleveland_heart_data$num<-ifelse(cleveland_heart_data$num == 0, 'no_disease', 'has_disease')\n",
    "\n",
    "cleveland_heart_data$cp<-ifelse(cleveland_heart_data$cp == 1, 'typical_angina',\n",
    "                                ifelse(cleveland_heart_data$cp == 2, 'atypical_angina',\n",
    "                                       ifelse(cleveland_heart_data$cp == 3, 'non_anginal_pain', 'asymptomatic')))\n",
    "\n",
    "cleveland_heart_data$slope<-ifelse(cleveland_heart_data$slope == 1, 'upsloping',\n",
    "                                   ifelse(cleveland_heart_data$slope == 2, 'flat', 'downsloping'))"
   ]
  },
  {
   "cell_type": "code",
   "execution_count": 4,
   "id": "b423c962-7794-4fbf-89be-87e23c437221",
   "metadata": {},
   "outputs": [],
   "source": [
    "cleveland_heart_data<-cleveland_heart_data%>%\n",
    "mutate(num=as_factor(num))"
   ]
  },
  {
   "cell_type": "code",
   "execution_count": 5,
   "id": "5ccf53a5-1902-4c4a-a808-10d35d0c1580",
   "metadata": {},
   "outputs": [
    {
     "data": {
      "text/html": [
       "<table class=\"dataframe\">\n",
       "<caption>A tibble: 6 × 4</caption>\n",
       "<thead>\n",
       "\t<tr><th scope=col>chol</th><th scope=col>trestbps</th><th scope=col>thalach</th><th scope=col>num</th></tr>\n",
       "\t<tr><th scope=col>&lt;dbl&gt;</th><th scope=col>&lt;dbl&gt;</th><th scope=col>&lt;dbl&gt;</th><th scope=col>&lt;fct&gt;</th></tr>\n",
       "</thead>\n",
       "<tbody>\n",
       "\t<tr><td>233</td><td>145</td><td>150</td><td>no_disease </td></tr>\n",
       "\t<tr><td>286</td><td>160</td><td>108</td><td>has_disease</td></tr>\n",
       "\t<tr><td>229</td><td>120</td><td>129</td><td>has_disease</td></tr>\n",
       "\t<tr><td>250</td><td>130</td><td>187</td><td>no_disease </td></tr>\n",
       "\t<tr><td>204</td><td>130</td><td>172</td><td>no_disease </td></tr>\n",
       "\t<tr><td>236</td><td>120</td><td>178</td><td>no_disease </td></tr>\n",
       "</tbody>\n",
       "</table>\n"
      ],
      "text/latex": [
       "A tibble: 6 × 4\n",
       "\\begin{tabular}{llll}\n",
       " chol & trestbps & thalach & num\\\\\n",
       " <dbl> & <dbl> & <dbl> & <fct>\\\\\n",
       "\\hline\n",
       "\t 233 & 145 & 150 & no\\_disease \\\\\n",
       "\t 286 & 160 & 108 & has\\_disease\\\\\n",
       "\t 229 & 120 & 129 & has\\_disease\\\\\n",
       "\t 250 & 130 & 187 & no\\_disease \\\\\n",
       "\t 204 & 130 & 172 & no\\_disease \\\\\n",
       "\t 236 & 120 & 178 & no\\_disease \\\\\n",
       "\\end{tabular}\n"
      ],
      "text/markdown": [
       "\n",
       "A tibble: 6 × 4\n",
       "\n",
       "| chol &lt;dbl&gt; | trestbps &lt;dbl&gt; | thalach &lt;dbl&gt; | num &lt;fct&gt; |\n",
       "|---|---|---|---|\n",
       "| 233 | 145 | 150 | no_disease  |\n",
       "| 286 | 160 | 108 | has_disease |\n",
       "| 229 | 120 | 129 | has_disease |\n",
       "| 250 | 130 | 187 | no_disease  |\n",
       "| 204 | 130 | 172 | no_disease  |\n",
       "| 236 | 120 | 178 | no_disease  |\n",
       "\n"
      ],
      "text/plain": [
       "  chol trestbps thalach num        \n",
       "1 233  145      150     no_disease \n",
       "2 286  160      108     has_disease\n",
       "3 229  120      129     has_disease\n",
       "4 250  130      187     no_disease \n",
       "5 204  130      172     no_disease \n",
       "6 236  120      178     no_disease "
      ]
     },
     "metadata": {},
     "output_type": "display_data"
    }
   ],
   "source": [
    "cleveland_heart_data<-cleveland_heart_data%>%\n",
    "select(chol, trestbps, thalach, num)\n",
    "head(cleveland_heart_data)"
   ]
  },
  {
   "cell_type": "code",
   "execution_count": 6,
   "id": "118f2ac3-c91f-4d1a-bc40-638701c5c93b",
   "metadata": {},
   "outputs": [],
   "source": [
    "set.seed(1772)\n",
    "heart_split<-initial_split(cleveland_heart_data, prop=0.75, strata=num)\n",
    "heart_train<-training(heart_split)\n",
    "heart_test<-testing(heart_split)"
   ]
  },
  {
   "cell_type": "code",
   "execution_count": 7,
   "id": "ecc7c464-8106-4129-85a1-31fd8fdd6f3e",
   "metadata": {},
   "outputs": [],
   "source": [
    "heart_recipe<-recipe(num ~ chol+trestbps+thalach, data=heart_train)%>%\n",
    "    step_scale(all_predictors())%>%\n",
    "    step_center(all_predictors())\n",
    "\n",
    "heart_knn<-nearest_neighbor(weight_func=\"rectangular\", neighbors=tune())%>%\n",
    "    set_engine(\"kknn\")%>%\n",
    "    set_mode(\"classification\")"
   ]
  },
  {
   "cell_type": "code",
   "execution_count": 8,
   "id": "fba07d80-865c-4f4e-9c9f-5fcd48e3270c",
   "metadata": {},
   "outputs": [],
   "source": [
    "heart_vfold<-vfold_cv(heart_train, v=5, strata=num)"
   ]
  },
  {
   "cell_type": "code",
   "execution_count": 9,
   "id": "143ae2e8-7c53-462c-9b49-64aaf929feab",
   "metadata": {},
   "outputs": [],
   "source": [
    "gridvals<-tibble(neighbors=seq(from=1, to=100, by=5))"
   ]
  },
  {
   "cell_type": "code",
   "execution_count": 10,
   "id": "38e87006-cdc8-466f-9d04-9ebdf648f5c4",
   "metadata": {},
   "outputs": [
    {
     "data": {
      "text/html": [
       "<table class=\"dataframe\">\n",
       "<caption>A tibble: 6 × 7</caption>\n",
       "<thead>\n",
       "\t<tr><th scope=col>neighbors</th><th scope=col>.metric</th><th scope=col>.estimator</th><th scope=col>mean</th><th scope=col>n</th><th scope=col>std_err</th><th scope=col>.config</th></tr>\n",
       "\t<tr><th scope=col>&lt;dbl&gt;</th><th scope=col>&lt;chr&gt;</th><th scope=col>&lt;chr&gt;</th><th scope=col>&lt;dbl&gt;</th><th scope=col>&lt;int&gt;</th><th scope=col>&lt;dbl&gt;</th><th scope=col>&lt;chr&gt;</th></tr>\n",
       "</thead>\n",
       "<tbody>\n",
       "\t<tr><td>41</td><td>accuracy</td><td>binary</td><td>0.7340184</td><td>5</td><td>0.04937380</td><td>Preprocessor1_Model09</td></tr>\n",
       "\t<tr><td>36</td><td>accuracy</td><td>binary</td><td>0.7208740</td><td>5</td><td>0.05078252</td><td>Preprocessor1_Model08</td></tr>\n",
       "\t<tr><td>46</td><td>accuracy</td><td>binary</td><td>0.7163329</td><td>5</td><td>0.05218648</td><td>Preprocessor1_Model10</td></tr>\n",
       "\t<tr><td>26</td><td>accuracy</td><td>binary</td><td>0.7076372</td><td>5</td><td>0.04963495</td><td>Preprocessor1_Model06</td></tr>\n",
       "\t<tr><td> 6</td><td>accuracy</td><td>binary</td><td>0.6991436</td><td>5</td><td>0.03828527</td><td>Preprocessor1_Model02</td></tr>\n",
       "\t<tr><td>31</td><td>accuracy</td><td>binary</td><td>0.6988450</td><td>5</td><td>0.04669202</td><td>Preprocessor1_Model07</td></tr>\n",
       "</tbody>\n",
       "</table>\n"
      ],
      "text/latex": [
       "A tibble: 6 × 7\n",
       "\\begin{tabular}{lllllll}\n",
       " neighbors & .metric & .estimator & mean & n & std\\_err & .config\\\\\n",
       " <dbl> & <chr> & <chr> & <dbl> & <int> & <dbl> & <chr>\\\\\n",
       "\\hline\n",
       "\t 41 & accuracy & binary & 0.7340184 & 5 & 0.04937380 & Preprocessor1\\_Model09\\\\\n",
       "\t 36 & accuracy & binary & 0.7208740 & 5 & 0.05078252 & Preprocessor1\\_Model08\\\\\n",
       "\t 46 & accuracy & binary & 0.7163329 & 5 & 0.05218648 & Preprocessor1\\_Model10\\\\\n",
       "\t 26 & accuracy & binary & 0.7076372 & 5 & 0.04963495 & Preprocessor1\\_Model06\\\\\n",
       "\t  6 & accuracy & binary & 0.6991436 & 5 & 0.03828527 & Preprocessor1\\_Model02\\\\\n",
       "\t 31 & accuracy & binary & 0.6988450 & 5 & 0.04669202 & Preprocessor1\\_Model07\\\\\n",
       "\\end{tabular}\n"
      ],
      "text/markdown": [
       "\n",
       "A tibble: 6 × 7\n",
       "\n",
       "| neighbors &lt;dbl&gt; | .metric &lt;chr&gt; | .estimator &lt;chr&gt; | mean &lt;dbl&gt; | n &lt;int&gt; | std_err &lt;dbl&gt; | .config &lt;chr&gt; |\n",
       "|---|---|---|---|---|---|---|\n",
       "| 41 | accuracy | binary | 0.7340184 | 5 | 0.04937380 | Preprocessor1_Model09 |\n",
       "| 36 | accuracy | binary | 0.7208740 | 5 | 0.05078252 | Preprocessor1_Model08 |\n",
       "| 46 | accuracy | binary | 0.7163329 | 5 | 0.05218648 | Preprocessor1_Model10 |\n",
       "| 26 | accuracy | binary | 0.7076372 | 5 | 0.04963495 | Preprocessor1_Model06 |\n",
       "|  6 | accuracy | binary | 0.6991436 | 5 | 0.03828527 | Preprocessor1_Model02 |\n",
       "| 31 | accuracy | binary | 0.6988450 | 5 | 0.04669202 | Preprocessor1_Model07 |\n",
       "\n"
      ],
      "text/plain": [
       "  neighbors .metric  .estimator mean      n std_err    .config              \n",
       "1 41        accuracy binary     0.7340184 5 0.04937380 Preprocessor1_Model09\n",
       "2 36        accuracy binary     0.7208740 5 0.05078252 Preprocessor1_Model08\n",
       "3 46        accuracy binary     0.7163329 5 0.05218648 Preprocessor1_Model10\n",
       "4 26        accuracy binary     0.7076372 5 0.04963495 Preprocessor1_Model06\n",
       "5  6        accuracy binary     0.6991436 5 0.03828527 Preprocessor1_Model02\n",
       "6 31        accuracy binary     0.6988450 5 0.04669202 Preprocessor1_Model07"
      ]
     },
     "metadata": {},
     "output_type": "display_data"
    }
   ],
   "source": [
    "knn_heart_results<-workflow()%>%\n",
    "    add_recipe(heart_recipe)%>%\n",
    "    add_model(heart_knn)%>%\n",
    "    tune_grid(resamples=heart_vfold, grid=gridvals)%>%\n",
    "    collect_metrics()%>%\n",
    "    filter(.metric==\"accuracy\")%>%\n",
    "    arrange(by=desc(mean))\n",
    "head(knn_heart_results)"
   ]
  },
  {
   "cell_type": "code",
   "execution_count": 11,
   "id": "f9d0c1c0-4f03-4087-be4e-ff65288b268b",
   "metadata": {},
   "outputs": [
    {
     "data": {
      "image/png": "[encoded data removed]",
      "text/plain": [
       "plot without title"
      ]
     },
     "metadata": {
      "image/png": {
       "height": 420,
       "width": 420
      }
     },
     "output_type": "display_data"
    }
   ],
   "source": [
    "knn_heart_graph<-knn_heart_results%>%\n",
    "ggplot(aes(x=neighbors, y=mean))+\n",
    "geom_point()+\n",
    "geom_line()+\n",
    "labs(x=\"Neighbors\", y=\"Accuracy Estimate\")+\n",
    "theme(text=element_text(size=20))+\n",
    "ggtitle(\"Estimated Accuracy vs Neighbors\")\n",
    "knn_heart_graph"
   ]
  },
  {
   "cell_type": "code",
   "execution_count": 12,
   "id": "40570731-4270-413c-880a-24c16d0bb834",
   "metadata": {},
   "outputs": [],
   "source": [
    "knn_heart_best<-nearest_neighbor(weight_func=\"rectangular\", neighbors=41)%>%\n",
    "    set_engine(\"kknn\")%>%\n",
    "    set_mode(\"classification\")\n",
    "\n",
    "heart_fit<-workflow()%>%\n",
    "    add_recipe(heart_recipe)%>%\n",
    "    add_model(knn_heart_best)%>%\n",
    "    fit(data=heart_train)"
   ]
  },
  {
   "cell_type": "code",
   "execution_count": 13,
   "id": "268822a3-07b0-4649-9dd2-7df4a49b0056",
   "metadata": {},
   "outputs": [
    {
     "data": {
      "text/html": [
       "<table class=\"dataframe\">\n",
       "<caption>A tibble: 1 × 3</caption>\n",
       "<thead>\n",
       "\t<tr><th scope=col>.metric</th><th scope=col>.estimator</th><th scope=col>.estimate</th></tr>\n",
       "\t<tr><th scope=col>&lt;chr&gt;</th><th scope=col>&lt;chr&gt;</th><th scope=col>&lt;dbl&gt;</th></tr>\n",
       "</thead>\n",
       "<tbody>\n",
       "\t<tr><td>accuracy</td><td>binary</td><td>0.6710526</td></tr>\n",
       "</tbody>\n",
       "</table>\n"
      ],
      "text/latex": [
       "A tibble: 1 × 3\n",
       "\\begin{tabular}{lll}\n",
       " .metric & .estimator & .estimate\\\\\n",
       " <chr> & <chr> & <dbl>\\\\\n",
       "\\hline\n",
       "\t accuracy & binary & 0.6710526\\\\\n",
       "\\end{tabular}\n"
      ],
      "text/markdown": [
       "\n",
       "A tibble: 1 × 3\n",
       "\n",
       "| .metric &lt;chr&gt; | .estimator &lt;chr&gt; | .estimate &lt;dbl&gt; |\n",
       "|---|---|---|\n",
       "| accuracy | binary | 0.6710526 |\n",
       "\n"
      ],
      "text/plain": [
       "  .metric  .estimator .estimate\n",
       "1 accuracy binary     0.6710526"
      ]
     },
     "metadata": {},
     "output_type": "display_data"
    }
   ],
   "source": [
    "heart_predictions<-heart_fit%>%\n",
    "    predict(heart_test)%>%\n",
    "    bind_cols(heart_test)%>%\n",
    "    metrics(truth=num, estimate=.pred_class)%>%\n",
    "    filter(.metric==\"accuracy\")\n",
    "heart_predictions"
   ]
  },
  {
   "cell_type": "code",
   "execution_count": null,
   "id": "97921bba-3cd0-4ddb-b632-49c1788ab628",
   "metadata": {},
   "outputs": [],
   "source": []
  }
 ],
 "metadata": {
  "kernelspec": {
   "display_name": "R",
   "language": "R",
   "name": "ir"
  },
  "language_info": {
   "codemirror_mode": "r",
   "file_extension": ".r",
   "mimetype": "text/x-r-source",
   "name": "R",
   "pygments_lexer": "r",
   "version": "4.1.3"
  }
 },
 "nbformat": 4,
 "nbformat_minor": 5
}
