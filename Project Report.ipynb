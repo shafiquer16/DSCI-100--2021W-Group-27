{
 "cells": [
  {
   "cell_type": "markdown",
   "id": "46b22e17-20ce-4fdd-a6ac-b56577dcc715",
   "metadata": {},
   "source": [
    "**Title**\n"
   ]
  },
  {
   "cell_type": "markdown",
   "id": "e8123f49-0950-4d9a-b0c5-93fb1cfd54fa",
   "metadata": {},
   "source": [
    "**Introduction**"
   ]
  },
  {
   "cell_type": "markdown",
   "id": "ef700bd5-a04b-48d4-b8e4-5c7259245ab9",
   "metadata": {},
   "source": [
    "**Methods and Results**"
   ]
  },
  {
   "cell_type": "markdown",
   "id": "e58ed973-daa6-41a9-ab1a-f5cf4750047c",
   "metadata": {},
   "source": [
    "Loading Packages:\n",
    "\n",
    "We loaded the relevant packages to our data analysis using the library function. The tidyverse package allows us to use functions to load in and wrangle our data set. The tidymodels packages allows us to use functions that are relevant to creating our classification algorithm such as the recipe and workflow commands.. The supressPackageStartupMessages function used while loading in tidyverse and tidymodels tells R to hide the start-up messages that appear when loading in these packages, this was done for clarity purposes."
   ]
  },
  {
   "cell_type": "code",
   "execution_count": 1,
   "id": "00fcb8dd-7d71-4c1c-92a8-e178a4b782d7",
   "metadata": {},
   "outputs": [],
   "source": [
    "suppressPackageStartupMessages(library(tidyverse))\n",
    "suppressPackageStartupMessages(library(tidymodels))"
   ]
  },
  {
   "cell_type": "markdown",
   "id": "ed9f9b3a-414b-46bc-91ad-76ab6539fa70",
   "metadata": {},
   "source": [
    "Reading In The Data Set:\n",
    "\n",
    "We assigned the link of the data set found online to an object called 'url'. Next, we used the read_csv command to load in the raw data from the web and assigned this dataframe to an object called 'cleveland_heart_data'. Furthermore, while loading in the data we specified that the raw data set from the web did not have any column names and we used the rename command to manually add in the name of the columns which was specified on the website where the dataframe was loaded from."
   ]
  },
  {
   "cell_type": "code",
   "execution_count": 2,
   "id": "44a87d58-bf02-4e62-a1c6-8cb306923763",
   "metadata": {},
   "outputs": [
    {
     "name": "stderr",
     "output_type": "stream",
     "text": [
      "\u001b[1mRows: \u001b[22m\u001b[34m303\u001b[39m \u001b[1mColumns: \u001b[22m\u001b[34m14\u001b[39m\n",
      "\u001b[36m──\u001b[39m \u001b[1mColumn specification\u001b[22m \u001b[36m────────────────────────────────────────────────────────\u001b[39m\n",
      "\u001b[1mDelimiter:\u001b[22m \",\"\n",
      "\u001b[31mchr\u001b[39m  (2): X12, X13\n",
      "\u001b[32mdbl\u001b[39m (12): X1, X2, X3, X4, X5, X6, X7, X8, X9, X10, X11, X14\n",
      "\n",
      "\u001b[36mℹ\u001b[39m Use `spec()` to retrieve the full column specification for this data.\n",
      "\u001b[36mℹ\u001b[39m Specify the column types or set `show_col_types = FALSE` to quiet this message.\n"
     ]
    }
   ],
   "source": [
    "url<-\"https://archive.ics.uci.edu/ml/machine-learning-databases/heart-disease/processed.cleveland.data\"\n",
    "\n",
    "cleveland_heart_data<-read_csv(url, col_names=FALSE)%>%\n",
    "rename(age=X1,\n",
    "       sex=X2,\n",
    "       cp=X3,\n",
    "       trestbps=X4,\n",
    "       chol=X5,\n",
    "       fbs=X6,\n",
    "       restecg=X7,\n",
    "       thalach=X8,\n",
    "       exang=X9,\n",
    "       oldpeak=X10,\n",
    "       slope=X11,\n",
    "       ca=X12,\n",
    "       thal=X13,\n",
    "       num=X14)     "
   ]
  },
  {
   "cell_type": "markdown",
   "id": "6944d993-f6a3-4fd3-8aa7-4574045bb245",
   "metadata": {},
   "source": [
    "Wrangling The Data:\n",
    "\n",
    "The original data set is difficult to understand as it represented the values of many variables with numbers instead of assigning them names. For example, male and female were represented by 0 and 1. In order to comprehend the dataset better we used the ifelse function to convert most of the variables represented by numbers into characters, allowing us to have a dataframe the is more easily interpretable. "
   ]
  },
  {
   "cell_type": "code",
   "execution_count": 3,
   "id": "d271e1b0-c755-4621-acb5-b7483191ab9c",
   "metadata": {},
   "outputs": [],
   "source": [
    "cleveland_heart_data$sex<-ifelse(cleveland_heart_data$sex == 1, 'male', 'female')\n",
    "\n",
    "cleveland_heart_data$fbs<-ifelse(cleveland_heart_data$fbs == 1, '>120', '<120')\n",
    "\n",
    "cleveland_heart_data$exang<-ifelse(cleveland_heart_data$exang == 1, 'yes', 'no')\n",
    "\n",
    "cleveland_heart_data$num<-ifelse(cleveland_heart_data$num == 0, 'no_disease', 'has_disease')\n",
    "\n",
    "cleveland_heart_data$cp<-ifelse(cleveland_heart_data$cp == 1, 'typical_angina',\n",
    "                                ifelse(cleveland_heart_data$cp == 2, 'atypical_angina',\n",
    "                                       ifelse(cleveland_heart_data$cp == 3, 'non_anginal_pain', 'asymptomatic')))\n",
    "\n",
    "cleveland_heart_data$slope<-ifelse(cleveland_heart_data$slope == 1, 'upsloping',\n",
    "                                   ifelse(cleveland_heart_data$slope == 2, 'flat', 'downsloping'))"
   ]
  },
  {
   "cell_type": "markdown",
   "id": "28331987-d5f0-429a-afe8-197d07fa5d66",
   "metadata": {},
   "source": [
    "Next, we converted the num variable into a factor type variable using the mutate function and used the as_factor function as an argument to specify the change in the data type of the column. The 'num' variable will serve as a response variable in our classification problem, therefore we need to ensure that it is recognized by R (and our classification algorithm) as a categorical variable so that the classifier understands there is a set number of values possible to classify an observation wtih, instead of a spectrum or range of values."
   ]
  },
  {
   "cell_type": "code",
   "execution_count": 4,
   "id": "b423c962-7794-4fbf-89be-87e23c437221",
   "metadata": {},
   "outputs": [],
   "source": [
    "cleveland_heart_data<-cleveland_heart_data%>%\n",
    "mutate(num=as_factor(num))"
   ]
  },
  {
   "cell_type": "markdown",
   "id": "9a29fec6-2c97-4dcd-abe4-bada57568dea",
   "metadata": {},
   "source": [
    "Since the data set we wrangled has many unnecessary variables for our classification, we decided to reduce the size of the dataframe and select only the variables that are relevant for our classification problem, as the other variables made the dataframe too distracting. We used the select function to do this."
   ]
  },
  {
   "cell_type": "code",
   "execution_count": 5,
   "id": "5ccf53a5-1902-4c4a-a808-10d35d0c1580",
   "metadata": {},
   "outputs": [
    {
     "data": {
      "text/html": [
       "<table class=\"dataframe\">\n",
       "<caption>A tibble: 6 × 4</caption>\n",
       "<thead>\n",
       "\t<tr><th scope=col>chol</th><th scope=col>trestbps</th><th scope=col>thalach</th><th scope=col>num</th></tr>\n",
       "\t<tr><th scope=col>&lt;dbl&gt;</th><th scope=col>&lt;dbl&gt;</th><th scope=col>&lt;dbl&gt;</th><th scope=col>&lt;fct&gt;</th></tr>\n",
       "</thead>\n",
       "<tbody>\n",
       "\t<tr><td>233</td><td>145</td><td>150</td><td>no_disease </td></tr>\n",
       "\t<tr><td>286</td><td>160</td><td>108</td><td>has_disease</td></tr>\n",
       "\t<tr><td>229</td><td>120</td><td>129</td><td>has_disease</td></tr>\n",
       "\t<tr><td>250</td><td>130</td><td>187</td><td>no_disease </td></tr>\n",
       "\t<tr><td>204</td><td>130</td><td>172</td><td>no_disease </td></tr>\n",
       "\t<tr><td>236</td><td>120</td><td>178</td><td>no_disease </td></tr>\n",
       "</tbody>\n",
       "</table>\n"
      ],
      "text/latex": [
       "A tibble: 6 × 4\n",
       "\\begin{tabular}{llll}\n",
       " chol & trestbps & thalach & num\\\\\n",
       " <dbl> & <dbl> & <dbl> & <fct>\\\\\n",
       "\\hline\n",
       "\t 233 & 145 & 150 & no\\_disease \\\\\n",
       "\t 286 & 160 & 108 & has\\_disease\\\\\n",
       "\t 229 & 120 & 129 & has\\_disease\\\\\n",
       "\t 250 & 130 & 187 & no\\_disease \\\\\n",
       "\t 204 & 130 & 172 & no\\_disease \\\\\n",
       "\t 236 & 120 & 178 & no\\_disease \\\\\n",
       "\\end{tabular}\n"
      ],
      "text/markdown": [
       "\n",
       "A tibble: 6 × 4\n",
       "\n",
       "| chol &lt;dbl&gt; | trestbps &lt;dbl&gt; | thalach &lt;dbl&gt; | num &lt;fct&gt; |\n",
       "|---|---|---|---|\n",
       "| 233 | 145 | 150 | no_disease  |\n",
       "| 286 | 160 | 108 | has_disease |\n",
       "| 229 | 120 | 129 | has_disease |\n",
       "| 250 | 130 | 187 | no_disease  |\n",
       "| 204 | 130 | 172 | no_disease  |\n",
       "| 236 | 120 | 178 | no_disease  |\n",
       "\n"
      ],
      "text/plain": [
       "  chol trestbps thalach num        \n",
       "1 233  145      150     no_disease \n",
       "2 286  160      108     has_disease\n",
       "3 229  120      129     has_disease\n",
       "4 250  130      187     no_disease \n",
       "5 204  130      172     no_disease \n",
       "6 236  120      178     no_disease "
      ]
     },
     "metadata": {},
     "output_type": "display_data"
    }
   ],
   "source": [
    "cleveland_heart_data<-cleveland_heart_data%>%\n",
    "select(chol, trestbps, thalach, num)\n",
    "head(cleveland_heart_data)"
   ]
  },
  {
   "cell_type": "markdown",
   "id": "45d77a0a-eb0c-4acc-b473-e16582e01169",
   "metadata": {},
   "source": [
    "Before we begin training our classification model, we randomly split our overall dataframe into two subsets of data (training dataset and testing dataset) using the initial_split function. At the end of our analysis this will allow us to provide our model with data that it has not seen before and therefore we can properly assess its accuracy based on the predictions it will make on the unseen data. We assign our training dataset to an object called heart_train, which is what we will use to train the classification model. Further, we assign our testing dataset to an object called heart_test. The testing dataset is what we will use to determine our classifier's accuracy after it has been trained with the training dataset. We have specified that we will devote 75% of the initial data (cleveland_heart_data) to the training dataset and 25% of it to the testing data set by specifying that prop=0.75 in the initial_split function. Furthermore, we also specify that strata=num, our response variable, to ensure that both the training and testing datasets have an equal proportions of 'has_disease' and no_disease' (the possible categories of our response variable). Finally, because we are telling R to randomly split our data, we set our seed value (1772), to ensure that our code is reproducible. "
   ]
  },
  {
   "cell_type": "code",
   "execution_count": 6,
   "id": "118f2ac3-c91f-4d1a-bc40-638701c5c93b",
   "metadata": {},
   "outputs": [],
   "source": [
    "set.seed(1772)\n",
    "heart_split<-initial_split(cleveland_heart_data, prop=0.75, strata=num)\n",
    "heart_train<-training(heart_split)\n",
    "heart_test<-testing(heart_split)"
   ]
  },
  {
   "cell_type": "markdown",
   "id": "ae9069c4-3bcb-4f3d-9727-42ceada52f07",
   "metadata": {},
   "source": [
    "Next we begin to pre-process our training data set, we accomplish this by creating a recipe by using the recipe function provided by tidymodels. First, we specify that are are using the 'num' column as our response variable, and that cholesterol, resting blood pressure and maximum heart rate are the predictor variables that we are using for this analysis. We further specify that we are creating this recipe from only our training data, as the testing data is not going to be used for any of the model training. Afterwards we state that we want to center and scale all of our predictor variables so that they each have a mean of 0 and a standard deviation of 1. We do this so that all of the predictor variables are on an equal scale and contribute equally to finding the nearest neighbor through the distance formula, if they were not on equal scales, the scale of one predictor may influence the nearest neighbors more than the other predictors. This was accomplished by using step_scale and step_center functions respectively."
   ]
  },
  {
   "cell_type": "markdown",
   "id": "b1cb4731-a257-4ccc-b55a-6badd006f6a6",
   "metadata": {},
   "source": [
    "After the recipe was created we create our model specification by using the nearest_neighbor command. We set the weight_func argument to rectangular to inform our model to use the straight line distance formula when calculating the distance between points in the dataset. We need to use cross-validation to pick the best K value for our model so we set the neighbors argument to tune(). This allows us to determine the accuracy for a list of k values that we specify in the next steps. To finalize our model specification we indicate that our model will be trained using a k-nearest neighbor computational engine and that it will be addressing classification problems by using the set_engine and set_mode functions."
   ]
  },
  {
   "cell_type": "code",
   "execution_count": 7,
   "id": "ecc7c464-8106-4129-85a1-31fd8fdd6f3e",
   "metadata": {},
   "outputs": [],
   "source": [
    "heart_recipe<-recipe(num ~ chol+trestbps+thalach, data=heart_train)%>%\n",
    "    step_scale(all_predictors())%>%\n",
    "    step_center(all_predictors())\n",
    "\n",
    "heart_knn<-nearest_neighbor(weight_func=\"rectangular\", neighbors=tune())%>%\n",
    "    set_engine(\"kknn\")%>%\n",
    "    set_mode(\"classification\")"
   ]
  },
  {
   "cell_type": "markdown",
   "id": "b8e6e3f6-3ebe-4a35-ad8e-589a043ff46a",
   "metadata": {},
   "source": [
    "We use the tibble function to create a table that consists of a column named 'neighbors' that has the values from 1 to 100 increasing by increments of 2. These are the values of k whose accuracy we have chosen compute during the cross validation analysis that we will perform. We only choose odd numbers to prevent a tie from occurring."
   ]
  },
  {
   "cell_type": "code",
   "execution_count": 8,
   "id": "143ae2e8-7c53-462c-9b49-64aaf929feab",
   "metadata": {},
   "outputs": [],
   "source": [
    "gridvals<-tibble(neighbors=seq(from=1, to=100, by=2))"
   ]
  },
  {
   "cell_type": "markdown",
   "id": "763a9caa-918f-4144-89a2-1e17f1bc9578",
   "metadata": {},
   "source": [
    "Next we apply the vfold_cv function to setup the information that we need to use to execute the cross-validation. We specify that we are going to preform a 5 fold cross validation by setting v=5 and that we will chose one of the evenly sized chunks to iteratively represent the validation set during this analysis. We also indicate that there should be equal numbers of each observation for the response variable in each of the 5 folds of data by setting strata=num."
   ]
  },
  {
   "cell_type": "code",
   "execution_count": 9,
   "id": "fba07d80-865c-4f4e-9c9f-5fcd48e3270c",
   "metadata": {},
   "outputs": [],
   "source": [
    "heart_vfold<-vfold_cv(heart_train, v=5, strata=num)"
   ]
  },
  {
   "cell_type": "markdown",
   "id": "60f6d533-14cd-4045-85f7-d091d834edcf",
   "metadata": {},
   "source": [
    "To execute the cross validation we add the recipe and model we created in previous steps into a workflow. We then call the tune_grid function to fit the model on to the range of possible k values created earlier (gridvals) and execute cross validation using the measures that we defined previously in the object 'heart_vfold'. Afterwards we call collect_metrics to provide us with the statistical results of the cross validation and filter for only the accuracy metric as this is the only measurement relevant to our analysis. We finally arrange our dataframe such that the accuracy (mean column) is arranged in descending order so we can determine the most accurate K value to use."
   ]
  },
  {
   "cell_type": "code",
   "execution_count": 10,
   "id": "38e87006-cdc8-466f-9d04-9ebdf648f5c4",
   "metadata": {},
   "outputs": [
    {
     "data": {
      "text/html": [
       "<table class=\"dataframe\">\n",
       "<caption>A tibble: 6 × 7</caption>\n",
       "<thead>\n",
       "\t<tr><th scope=col>neighbors</th><th scope=col>.metric</th><th scope=col>.estimator</th><th scope=col>mean</th><th scope=col>n</th><th scope=col>std_err</th><th scope=col>.config</th></tr>\n",
       "\t<tr><th scope=col>&lt;dbl&gt;</th><th scope=col>&lt;chr&gt;</th><th scope=col>&lt;chr&gt;</th><th scope=col>&lt;dbl&gt;</th><th scope=col>&lt;int&gt;</th><th scope=col>&lt;dbl&gt;</th><th scope=col>&lt;chr&gt;</th></tr>\n",
       "</thead>\n",
       "<tbody>\n",
       "\t<tr><td>41</td><td>accuracy</td><td>binary</td><td>0.7340184</td><td>5</td><td>0.04937380</td><td>Preprocessor1_Model21</td></tr>\n",
       "\t<tr><td>35</td><td>accuracy</td><td>binary</td><td>0.7208740</td><td>5</td><td>0.05078252</td><td>Preprocessor1_Model18</td></tr>\n",
       "\t<tr><td>37</td><td>accuracy</td><td>binary</td><td>0.7206763</td><td>5</td><td>0.05584203</td><td>Preprocessor1_Model19</td></tr>\n",
       "\t<tr><td>45</td><td>accuracy</td><td>binary</td><td>0.7163329</td><td>5</td><td>0.05218648</td><td>Preprocessor1_Model23</td></tr>\n",
       "\t<tr><td>39</td><td>accuracy</td><td>binary</td><td>0.7162319</td><td>5</td><td>0.05617022</td><td>Preprocessor1_Model20</td></tr>\n",
       "\t<tr><td>47</td><td>accuracy</td><td>binary</td><td>0.7119851</td><td>5</td><td>0.05097307</td><td>Preprocessor1_Model24</td></tr>\n",
       "</tbody>\n",
       "</table>\n"
      ],
      "text/latex": [
       "A tibble: 6 × 7\n",
       "\\begin{tabular}{lllllll}\n",
       " neighbors & .metric & .estimator & mean & n & std\\_err & .config\\\\\n",
       " <dbl> & <chr> & <chr> & <dbl> & <int> & <dbl> & <chr>\\\\\n",
       "\\hline\n",
       "\t 41 & accuracy & binary & 0.7340184 & 5 & 0.04937380 & Preprocessor1\\_Model21\\\\\n",
       "\t 35 & accuracy & binary & 0.7208740 & 5 & 0.05078252 & Preprocessor1\\_Model18\\\\\n",
       "\t 37 & accuracy & binary & 0.7206763 & 5 & 0.05584203 & Preprocessor1\\_Model19\\\\\n",
       "\t 45 & accuracy & binary & 0.7163329 & 5 & 0.05218648 & Preprocessor1\\_Model23\\\\\n",
       "\t 39 & accuracy & binary & 0.7162319 & 5 & 0.05617022 & Preprocessor1\\_Model20\\\\\n",
       "\t 47 & accuracy & binary & 0.7119851 & 5 & 0.05097307 & Preprocessor1\\_Model24\\\\\n",
       "\\end{tabular}\n"
      ],
      "text/markdown": [
       "\n",
       "A tibble: 6 × 7\n",
       "\n",
       "| neighbors &lt;dbl&gt; | .metric &lt;chr&gt; | .estimator &lt;chr&gt; | mean &lt;dbl&gt; | n &lt;int&gt; | std_err &lt;dbl&gt; | .config &lt;chr&gt; |\n",
       "|---|---|---|---|---|---|---|\n",
       "| 41 | accuracy | binary | 0.7340184 | 5 | 0.04937380 | Preprocessor1_Model21 |\n",
       "| 35 | accuracy | binary | 0.7208740 | 5 | 0.05078252 | Preprocessor1_Model18 |\n",
       "| 37 | accuracy | binary | 0.7206763 | 5 | 0.05584203 | Preprocessor1_Model19 |\n",
       "| 45 | accuracy | binary | 0.7163329 | 5 | 0.05218648 | Preprocessor1_Model23 |\n",
       "| 39 | accuracy | binary | 0.7162319 | 5 | 0.05617022 | Preprocessor1_Model20 |\n",
       "| 47 | accuracy | binary | 0.7119851 | 5 | 0.05097307 | Preprocessor1_Model24 |\n",
       "\n"
      ],
      "text/plain": [
       "  neighbors .metric  .estimator mean      n std_err    .config              \n",
       "1 41        accuracy binary     0.7340184 5 0.04937380 Preprocessor1_Model21\n",
       "2 35        accuracy binary     0.7208740 5 0.05078252 Preprocessor1_Model18\n",
       "3 37        accuracy binary     0.7206763 5 0.05584203 Preprocessor1_Model19\n",
       "4 45        accuracy binary     0.7163329 5 0.05218648 Preprocessor1_Model23\n",
       "5 39        accuracy binary     0.7162319 5 0.05617022 Preprocessor1_Model20\n",
       "6 47        accuracy binary     0.7119851 5 0.05097307 Preprocessor1_Model24"
      ]
     },
     "metadata": {},
     "output_type": "display_data"
    }
   ],
   "source": [
    "knn_heart_results<-workflow()%>%\n",
    "    add_recipe(heart_recipe)%>%\n",
    "    add_model(heart_knn)%>%\n",
    "    tune_grid(resamples=heart_vfold, grid=gridvals)%>%\n",
    "    collect_metrics()%>%\n",
    "    filter(.metric==\"accuracy\")%>%\n",
    "    arrange(by=desc(mean))\n",
    "head(knn_heart_results)"
   ]
  },
  {
   "cell_type": "markdown",
   "id": "312f894b-1cf3-4708-b1b5-52a08ed6b562",
   "metadata": {},
   "source": [
    "We illustrate the results of our cross-validation by plotting a scatter plot (and line plot that connects the points of the scatter plot to improve clarity) of the accuracy estimate vs the neighbors to help us determine which of the k values is optimal. We use the ggplot command to construct the graph and use geom_point and geom_line respectively to overlay the points and line on to the graph. The graph indicates that k=41 neighbors is optimal for the model we are constructing as it relatively the highest accuracies of all the k values tested and changing this value slightly does not result in very large changes in accuracy."
   ]
  },
  {
   "cell_type": "code",
   "execution_count": 11,
   "id": "f9d0c1c0-4f03-4087-be4e-ff65288b268b",
   "metadata": {},
   "outputs": [
    {
     "data": {
      "image/png": "[encoded data removed]",
      "text/plain": [
       "plot without title"
      ]
     },
     "metadata": {
      "image/png": {
       "height": 420,
       "width": 420
      }
     },
     "output_type": "display_data"
    }
   ],
   "source": [
    "knn_heart_graph<-knn_heart_results%>%\n",
    "ggplot(aes(x=neighbors, y=mean))+\n",
    "geom_point()+\n",
    "geom_line()+\n",
    "labs(x=\"Neighbors\", y=\"Accuracy Estimate\")+\n",
    "theme(text=element_text(size=20))+\n",
    "ggtitle(\"Estimated Accuracy vs Neighbors\")\n",
    "knn_heart_graph"
   ]
  },
  {
   "cell_type": "markdown",
   "id": "8bf181d8-64c1-41bb-9c41-4f385102bb59",
   "metadata": {},
   "source": [
    "We now re-make our model specification with the optimal k value that was extracted from the plot above. We still specify that we want to use the straight line distance to calculate distance between points in our training data and our computational engine and mode remain the same as the previous model specification where the neighbors was set to tune(). Finally, we add our new model specification with k=41 and our recipe (the same recipe created earlier), to a workflow and fit the data on to the training dataset to complete the training of our classification model."
   ]
  },
  {
   "cell_type": "code",
   "execution_count": 12,
   "id": "40570731-4270-413c-880a-24c16d0bb834",
   "metadata": {},
   "outputs": [],
   "source": [
    "knn_heart_best<-nearest_neighbor(weight_func=\"rectangular\", neighbors=41)%>%\n",
    "    set_engine(\"kknn\")%>%\n",
    "    set_mode(\"classification\")\n",
    "\n",
    "heart_fit<-workflow()%>%\n",
    "    add_recipe(heart_recipe)%>%\n",
    "    add_model(knn_heart_best)%>%\n",
    "    fit(data=heart_train)"
   ]
  },
  {
   "cell_type": "markdown",
   "id": "368ffa6d-f951-4ff9-a789-6623b3983c0d",
   "metadata": {},
   "source": [
    "To assess the accuracy of our model, we use our classifier to predict the labels of the testing data set that was created at the beginning of this anylsis. This is an appropriate method to determine an estimate of how accurate the model is because the classifier has not seen any of the data from the testing set. We use the predict function to tell the classifier to make these predictions on the testing data set and add the resulting column it produces to our test data set. Further we call the metrics function to provide us with the statistical results of the predictions and filter for the accuracy as this is the only measurement relevant to this analysis. Based on this report we can conclude that the accuracy of our classifier is approximately 67%."
   ]
  },
  {
   "cell_type": "code",
   "execution_count": 13,
   "id": "268822a3-07b0-4649-9dd2-7df4a49b0056",
   "metadata": {},
   "outputs": [
    {
     "data": {
      "text/html": [
       "<table class=\"dataframe\">\n",
       "<caption>A tibble: 1 × 3</caption>\n",
       "<thead>\n",
       "\t<tr><th scope=col>.metric</th><th scope=col>.estimator</th><th scope=col>.estimate</th></tr>\n",
       "\t<tr><th scope=col>&lt;chr&gt;</th><th scope=col>&lt;chr&gt;</th><th scope=col>&lt;dbl&gt;</th></tr>\n",
       "</thead>\n",
       "<tbody>\n",
       "\t<tr><td>accuracy</td><td>binary</td><td>0.6710526</td></tr>\n",
       "</tbody>\n",
       "</table>\n"
      ],
      "text/latex": [
       "A tibble: 1 × 3\n",
       "\\begin{tabular}{lll}\n",
       " .metric & .estimator & .estimate\\\\\n",
       " <chr> & <chr> & <dbl>\\\\\n",
       "\\hline\n",
       "\t accuracy & binary & 0.6710526\\\\\n",
       "\\end{tabular}\n"
      ],
      "text/markdown": [
       "\n",
       "A tibble: 1 × 3\n",
       "\n",
       "| .metric &lt;chr&gt; | .estimator &lt;chr&gt; | .estimate &lt;dbl&gt; |\n",
       "|---|---|---|\n",
       "| accuracy | binary | 0.6710526 |\n",
       "\n"
      ],
      "text/plain": [
       "  .metric  .estimator .estimate\n",
       "1 accuracy binary     0.6710526"
      ]
     },
     "metadata": {},
     "output_type": "display_data"
    }
   ],
   "source": [
    "heart_predictions<-heart_fit%>%\n",
    "    predict(heart_test)%>%\n",
    "    bind_cols(heart_test)%>%\n",
    "    metrics(truth=num, estimate=.pred_class)%>%\n",
    "    filter(.metric==\"accuracy\")\n",
    "heart_predictions"
   ]
  },
  {
   "cell_type": "code",
   "execution_count": null,
   "id": "97921bba-3cd0-4ddb-b632-49c1788ab628",
   "metadata": {},
   "outputs": [],
   "source": []
  }
 ],
 "metadata": {
  "kernelspec": {
   "display_name": "R",
   "language": "R",
   "name": "ir"
  },
  "language_info": {
   "codemirror_mode": "r",
   "file_extension": ".r",
   "mimetype": "text/x-r-source",
   "name": "R",
   "pygments_lexer": "r",
   "version": "4.1.3"
  }
 },
 "nbformat": 4,
 "nbformat_minor": 5
}
